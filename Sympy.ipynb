{
  "nbformat": 4,
  "nbformat_minor": 0,
  "metadata": {
    "colab": {
      "provenance": []
    },
    "kernelspec": {
      "name": "python3",
      "display_name": "Python 3"
    },
    "language_info": {
      "name": "python"
    }
  },
  "cells": [
    {
      "cell_type": "markdown",
      "source": [
        "# Sympy範例學習 20230304筆記\n",
        "\n",
        "[英文WIKI說明](https://en.wikipedia.org/wiki/SymPy)\n",
        "[中文WIKI說明](https://zh.wikipedia.org/wiki/SymPy)\n",
        "\n",
        "[SymPy’s documentation](https://docs.sympy.org/latest/index.html)\n",
        "\n",
        "[SymPy Tutorial](https://www.tutorialspoint.com/sympy/index.htm)\n",
        "\n",
        "符號計算(symbolic calculation) vs 數值分析(Numeric analysis)\n",
        "\n",
        "[Markdown Guide](https://www.markdownguide.org/)\n",
        "\n",
        "[用 SymPy 產生數學公式](https://ithelp.ithome.com.tw/articles/10230549)\n"
      ],
      "metadata": {
        "id": "1YxypH8SMy2U"
      }
    },
    {
      "cell_type": "markdown",
      "source": [
        "## 學習資源\n",
        "- [Python Tutorials Part 1. 程式基礎與數學篇](https://web.ntnu.edu.tw/~tsungwu/Python_DevOps/mainPage.html)"
      ],
      "metadata": {
        "id": "xTsDC-wyfJA1"
      }
    },
    {
      "cell_type": "code",
      "source": [
        "import sympy\n",
        "from sympy import init_printing, Integral, Symbol, latex\n",
        "\n",
        "# 定義變數 x\n",
        "x = Symbol('x')\n",
        "\n",
        "# 設定多項式\n",
        "expr1 = 2*x**2 + 3*x + 2\n",
        "\n",
        "init_printing(use_latex='mathjax')\n",
        "\n",
        "# 積分一下\n",
        "print(\"顯示數學式\")\n",
        "Integral(expr1, x)"
      ],
      "metadata": {
        "colab": {
          "base_uri": "https://localhost:8080/",
          "height": 72
        },
        "id": "sqTOtQg6hIxj",
        "outputId": "8ce451df-b4fb-4faa-800a-936bd7d0ed55"
      },
      "execution_count": 19,
      "outputs": [
        {
          "output_type": "stream",
          "name": "stdout",
          "text": [
            "顯示數學式\n"
          ]
        },
        {
          "output_type": "execute_result",
          "data": {
            "text/plain": [
              "⌠                    \n",
              "⎮ ⎛   2          ⎞   \n",
              "⎮ ⎝2⋅x  + 3⋅x + 2⎠ dx\n",
              "⌡                    "
            ],
            "text/latex": "$\\displaystyle \\int \\left(2 x^{2} + 3 x + 2\\right)\\, dx$"
          },
          "metadata": {},
          "execution_count": 19
        }
      ]
    },
    {
      "cell_type": "markdown",
      "source": [
        "# 方程式展開"
      ],
      "metadata": {
        "id": "4PWAF1GkeJFE"
      }
    },
    {
      "cell_type": "code",
      "source": [
        "import sympy, math\n",
        "\n",
        "init_printing(use_latex='mathjax')\n",
        "\n",
        "print(\"顯示數學式\")\n",
        "f = (x+1)**2\n",
        "print(f)\n",
        "print(expand(f))"
      ],
      "metadata": {
        "colab": {
          "base_uri": "https://localhost:8080/"
        },
        "id": "6hX9sDmZWzDj",
        "outputId": "694a2ed2-71f0-41c7-f3a2-2bee74fcf396"
      },
      "execution_count": 21,
      "outputs": [
        {
          "output_type": "stream",
          "name": "stdout",
          "text": [
            "顯示數學式\n",
            "(x + 1)**2\n",
            "x**2 + 2*x + 1\n"
          ]
        }
      ]
    },
    {
      "cell_type": "markdown",
      "source": [
        "# 解聯立方程式\n",
        "\n",
        "- solve((方程式1, 方程式2), (變數1, 變數2))\n",
        "- 更多方程式求解請參看 [Solve Equations](https://docs.sympy.org/latest/guides/solving/index.html)"
      ],
      "metadata": {
        "id": "har7LzAIdD0v"
      }
    },
    {
      "cell_type": "code",
      "source": [
        "import sympy, math\n",
        "\n",
        "x, y = symbols('x y', communtative = True)\n",
        "print(solve((x + 2*y - 8, 2*x - y - 6), (x, y)))"
      ],
      "metadata": {
        "colab": {
          "base_uri": "https://localhost:8080/"
        },
        "id": "VJqJMdmEdM_n",
        "outputId": "764ab253-2015-462f-9351-21e1f46ede57"
      },
      "execution_count": 14,
      "outputs": [
        {
          "output_type": "stream",
          "name": "stdout",
          "text": [
            "{x: 4, y: 2}\n"
          ]
        }
      ]
    },
    {
      "cell_type": "code",
      "source": [
        "import sympy, math\n",
        "\n",
        "x, y, z = symbols('x y z', communtative = True)\n",
        "f1 = 2*x - y + z - 10\n",
        "f2 = 3*x + 2*y - z - 16\n",
        "f3 = x + 6*y - z - 28\n",
        "print(solve([f1, f2, f3]))"
      ],
      "metadata": {
        "colab": {
          "base_uri": "https://localhost:8080/"
        },
        "id": "-sxDrrS9asyC",
        "outputId": "42f8678c-9f5f-4545-a12f-51b943c2104c"
      },
      "execution_count": 12,
      "outputs": [
        {
          "output_type": "stream",
          "name": "stdout",
          "text": [
            "{x: 46/11, y: 56/11, z: 74/11}\n"
          ]
        }
      ]
    },
    {
      "cell_type": "markdown",
      "source": [
        "# 函數加總\n",
        "- summation(f, (i, a, b)) \n",
        "- 計算 f 函數從 a 到 b 的加總"
      ],
      "metadata": {
        "id": "egtDYQ6Ifv7F"
      }
    },
    {
      "cell_type": "markdown",
      "source": [
        "$\\sum_{1}^{n} (2i-1) = ?$"
      ],
      "metadata": {
        "id": "jsIpdwNmjjBp"
      }
    },
    {
      "cell_type": "code",
      "source": [
        "from sympy import summation, oo, symbols, log\n",
        "\n",
        "i, n, m = symbols('i n m', integer=True)\n",
        "\n",
        "summation(2*i - 1, (i, 1, n))"
      ],
      "metadata": {
        "colab": {
          "base_uri": "https://localhost:8080/",
          "height": 39
        },
        "id": "S_wJU6V6f8Ez",
        "outputId": "6d629808-9a73-4076-84a1-fb7d19c33da2"
      },
      "execution_count": 23,
      "outputs": [
        {
          "output_type": "execute_result",
          "data": {
            "text/plain": [
              " 2\n",
              "n "
            ],
            "text/latex": "$\\displaystyle n^{2}$"
          },
          "metadata": {},
          "execution_count": 23
        }
      ]
    },
    {
      "cell_type": "markdown",
      "source": [
        "# 泰勒級數展開(Taylor series expansion):\n",
        "- 函數.series(x, a, n+1) \n",
        "- 「對函數f(x)，在x=a 處展開 n 階泰勒多項式」\n",
        "- 第n+1項就是泰勒剩餘。\n"
      ],
      "metadata": {
        "id": "UJ2TUuWHcncY"
      }
    },
    {
      "cell_type": "code",
      "source": [
        "from sympy import Symbol, cos\n",
        "\n",
        "x = Symbol('x')\n",
        "\n",
        "cos(x).series(x, 0, 10)"
      ],
      "metadata": {
        "colab": {
          "base_uri": "https://localhost:8080/",
          "height": 54
        },
        "id": "hv-Qx019enN3",
        "outputId": "968ebcf0-54d4-4aad-a029-fec4436a973b"
      },
      "execution_count": 17,
      "outputs": [
        {
          "output_type": "execute_result",
          "data": {
            "text/plain": [
              "1 - x**2/2 + x**4/24 - x**6/720 + x**8/40320 + O(x**10)"
            ],
            "text/latex": "$\\displaystyle 1 - \\frac{x^{2}}{2} + \\frac{x^{4}}{24} - \\frac{x^{6}}{720} + \\frac{x^{8}}{40320} + O\\left(x^{10}\\right)$"
          },
          "metadata": {},
          "execution_count": 17
        }
      ]
    },
    {
      "cell_type": "markdown",
      "source": [
        "# limit求極限\n",
        "\n",
        "- 使用limit(function,variable,point)函數可以計算函數的極限值"
      ],
      "metadata": {
        "id": "avUAS3gna54p"
      }
    },
    {
      "cell_type": "code",
      "source": [
        "import sympy, math\n",
        "\n",
        "x, a = symbols('x a', communtative = True)\n",
        "\n",
        "f = (x+1)**2 + 1\n",
        "\n",
        "print(limit(f, x, a-1))"
      ],
      "metadata": {
        "colab": {
          "base_uri": "https://localhost:8080/"
        },
        "id": "qnauARjta-LB",
        "outputId": "e5c8164b-90f2-4b43-ff46-2b0c3ca29c9a"
      },
      "execution_count": 16,
      "outputs": [
        {
          "output_type": "stream",
          "name": "stdout",
          "text": [
            "a**2 + 1\n"
          ]
        }
      ]
    },
    {
      "cell_type": "markdown",
      "source": [
        "# 微分(differentiation)\n",
        "\n",
        "- diff(函數，引數，求導的次數）"
      ],
      "metadata": {
        "id": "Rv4RptxPaOzx"
      }
    },
    {
      "cell_type": "code",
      "source": [
        "sin(2*x).diff(x)"
      ],
      "metadata": {
        "colab": {
          "base_uri": "https://localhost:8080/",
          "height": 39
        },
        "id": "F5Bet-pfbWsp",
        "outputId": "1315103d-ffbf-429d-8fff-5ffe7bbe4f29"
      },
      "execution_count": 8,
      "outputs": [
        {
          "output_type": "execute_result",
          "data": {
            "text/plain": [
              "2*cos(2*x)"
            ],
            "text/latex": "$\\displaystyle 2 \\cos{\\left(2 x \\right)}$"
          },
          "metadata": {},
          "execution_count": 8
        }
      ]
    },
    {
      "cell_type": "code",
      "source": [
        "diff(sin(2*x), x, 2) "
      ],
      "metadata": {
        "colab": {
          "base_uri": "https://localhost:8080/",
          "height": 39
        },
        "id": "iZS6HtLDbaTY",
        "outputId": "9de313d6-f884-4568-f543-e090ff190150"
      },
      "execution_count": 9,
      "outputs": [
        {
          "output_type": "execute_result",
          "data": {
            "text/plain": [
              "-4*sin(2*x)"
            ],
            "text/latex": "$\\displaystyle - 4 \\sin{\\left(2 x \\right)}$"
          },
          "metadata": {},
          "execution_count": 9
        }
      ]
    },
    {
      "cell_type": "markdown",
      "source": [
        "# 積分\n",
        "\n",
        "- integrate()可以計算定積分和不定積分\n",
        "- integrate(f(x),x):計算不定積分\n",
        "- integrate(f(x),(x,a,b)):計算定積分\n",
        "- integrate(函數名稱, 變數)\n",
        "- integrate(函數名稱, (變數, 積分下限, 積分上限))"
      ],
      "metadata": {
        "id": "k7bDlzjlZ8yh"
      }
    },
    {
      "cell_type": "markdown",
      "source": [
        "\n",
        "# 不定積分\n"
      ],
      "metadata": {
        "id": "7ynWCjIGVS2U"
      }
    },
    {
      "cell_type": "code",
      "source": [
        "import math\n",
        "from sympy import *  \n",
        "                                                                                            \n",
        "x = symbols('x')\n",
        "integrate(exp(2*x), x)"
      ],
      "metadata": {
        "colab": {
          "base_uri": "https://localhost:8080/",
          "height": 54
        },
        "id": "Uuu3jS0pU_dt",
        "outputId": "ffd05a47-b059-4008-cc6d-058e48e7fc56"
      },
      "execution_count": 3,
      "outputs": [
        {
          "output_type": "execute_result",
          "data": {
            "text/plain": [
              "exp(2*x)/2"
            ],
            "text/latex": "$\\displaystyle \\frac{e^{2 x}}{2}$"
          },
          "metadata": {},
          "execution_count": 3
        }
      ]
    },
    {
      "cell_type": "markdown",
      "source": [
        "# 定積分(definite integration)"
      ],
      "metadata": {
        "id": "JSJIV5uZZWEx"
      }
    },
    {
      "cell_type": "code",
      "source": [
        "import math\n",
        "from sympy import * \n",
        "                                                                                             \n",
        "x = symbols('x')\n",
        "integrate(exp(2*x), (x, 0, 1))"
      ],
      "metadata": {
        "colab": {
          "base_uri": "https://localhost:8080/",
          "height": 54
        },
        "id": "k8dIbAipXFgs",
        "outputId": "8bcc234e-f61f-4188-f224-50dfc9753eaa"
      },
      "execution_count": 5,
      "outputs": [
        {
          "output_type": "execute_result",
          "data": {
            "text/plain": [
              "-1/2 + exp(2)/2"
            ],
            "text/latex": "$\\displaystyle - \\frac{1}{2} + \\frac{e^{2}}{2}$"
          },
          "metadata": {},
          "execution_count": 5
        }
      ]
    },
    {
      "cell_type": "markdown",
      "source": [
        "# 多重積分\n",
        "\n",
        "$$\\int_0^1 \\int_0^{1-x^2} \\int_0^{4-x^2-y^2} xdxdydz$$"
      ],
      "metadata": {
        "id": "RlXtFSlcah-C"
      }
    },
    {
      "cell_type": "code",
      "source": [
        "import sympy as smp\n",
        "\n",
        "x, y, z = smp.symbols('x, y, z')\n",
        "\n",
        "f = x\n",
        "\n",
        "smp.integrate(f, (z, 3, 4-x**2-y**2), (y, 0, 1-x**2), (x, 0, 1))"
      ],
      "metadata": {
        "colab": {
          "base_uri": "https://localhost:8080/",
          "height": 51
        },
        "id": "-w5NRUMzajMq",
        "outputId": "3dde52d7-d164-491e-c036-48a827907307"
      },
      "execution_count": 25,
      "outputs": [
        {
          "output_type": "execute_result",
          "data": {
            "text/plain": [
              "1/8"
            ],
            "text/latex": "$\\displaystyle \\frac{1}{8}$"
          },
          "metadata": {},
          "execution_count": 25
        }
      ]
    },
    {
      "cell_type": "markdown",
      "source": [
        "# 解微分方程式(Ordinary Differential Equation, ODE)\n",
        "\n",
        "- dsolve()計算微分方程式\n",
        "- [ODE](https://docs.sympy.org/latest/modules/solvers/ode.html)\n",
        "- [Solve an Ordinary Differential Equation (ODE) Algebraically](https://docs.sympy.org/dev/guides/solving/solve-ode.html)"
      ],
      "metadata": {
        "id": "KwpMKsszbmNH"
      }
    },
    {
      "cell_type": "code",
      "source": [
        "from sympy import Function, dsolve, Derivative, checkodesol\n",
        "from sympy.abc import x\n",
        "y = Function('y')\n",
        "# Solve the ODE\n",
        "result = dsolve(Derivative(y(x), x, x) + 9*y(x), y(x))\n",
        "result"
      ],
      "metadata": {
        "colab": {
          "base_uri": "https://localhost:8080/",
          "height": 39
        },
        "id": "t6oWnOAwbwCf",
        "outputId": "7e7330ac-b0a3-47cb-8162-78253dcfdafb"
      },
      "execution_count": 24,
      "outputs": [
        {
          "output_type": "execute_result",
          "data": {
            "text/plain": [
              "y(x) = C₁⋅sin(3⋅x) + C₂⋅cos(3⋅x)"
            ],
            "text/latex": "$\\displaystyle y{\\left(x \\right)} = C_{1} \\sin{\\left(3 x \\right)} + C_{2} \\cos{\\left(3 x \\right)}$"
          },
          "metadata": {},
          "execution_count": 24
        }
      ]
    }
  ]
}