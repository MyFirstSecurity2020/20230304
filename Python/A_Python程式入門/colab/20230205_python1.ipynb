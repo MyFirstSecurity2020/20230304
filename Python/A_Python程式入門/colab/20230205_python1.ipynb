{
  "nbformat": 4,
  "nbformat_minor": 0,
  "metadata": {
    "colab": {
      "provenance": []
    },
    "kernelspec": {
      "name": "python3",
      "display_name": "Python 3"
    },
    "language_info": {
      "name": "python"
    }
  },
  "cells": [
    {
      "cell_type": "markdown",
      "source": [
        "# Python 20230205\n",
        "\n",
        "colab\n",
        "\n",
        "$E = mc^2$\n",
        "\n",
        "This is **bold**.\n",
        "This is *italic*.\n",
        "This is ~strikethrough~\n",
        "\n",
        "[Google Colab Tutorial](https://www.tutorialspoint.com/google_colab/index.htm)"
      ],
      "metadata": {
        "id": "wnx1OxPcLtP7"
      }
    },
    {
      "cell_type": "code",
      "execution_count": 3,
      "metadata": {
        "colab": {
          "base_uri": "https://localhost:8080/"
        },
        "id": "yW8BalOrLnwO",
        "outputId": "8611fb04-32be-47a4-ec8d-b924a8e3dcf5"
      },
      "outputs": [
        {
          "output_type": "stream",
          "name": "stdout",
          "text": [
            "pandas version: 1.3.5\n",
            "matplotlib version: 3.2.2\n",
            "numpy version: 1.21.6\n",
            "scikit-learn version: 1.0.2\n",
            "tensorflow version: 2.9.2\n",
            "PyTorch version: 1.13.1+cu116\n",
            "2021年4月PyTorch version最新版本 請參閱https://pytorch.org/\n"
          ]
        }
      ],
      "source": [
        "import pandas as pd\n",
        "print(\"pandas version: %s\" % pd.__version__)\n",
        " \n",
        "import matplotlib\n",
        "print(\"matplotlib version: %s\" % matplotlib.__version__)\n",
        " \n",
        "import numpy as np\n",
        "print(\"numpy version: %s\" % np.__version__)\n",
        " \n",
        "import sklearn\n",
        "print(\"scikit-learn version: %s\" % sklearn.__version__)\n",
        " \n",
        "import tensorflow as tf\n",
        "print(\"tensorflow version: %s\" % tf.__version__)\n",
        " \n",
        "import torch\n",
        "print(\"PyTorch version: %s\" %torch.__version__)\n",
        "print(\"2021年4月PyTorch version最新版本 請參閱https://pytorch.org/\")"
      ]
    },
    {
      "cell_type": "code",
      "source": [
        "3**2"
      ],
      "metadata": {
        "colab": {
          "base_uri": "https://localhost:8080/"
        },
        "id": "nv45zc1PMp3x",
        "outputId": "80548141-6cba-4cd2-af19-267ab243aa05"
      },
      "execution_count": 4,
      "outputs": [
        {
          "output_type": "execute_result",
          "data": {
            "text/plain": [
              "9"
            ]
          },
          "metadata": {},
          "execution_count": 4
        }
      ]
    }
  ]
}